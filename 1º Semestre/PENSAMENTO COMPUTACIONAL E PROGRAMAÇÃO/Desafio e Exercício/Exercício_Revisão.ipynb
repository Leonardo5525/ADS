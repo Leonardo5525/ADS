{
  "nbformat": 4,
  "nbformat_minor": 0,
  "metadata": {
    "colab": {
      "provenance": []
    },
    "kernelspec": {
      "name": "python3",
      "display_name": "Python 3"
    },
    "language_info": {
      "name": "python"
    }
  },
  "cells": [
    {
      "cell_type": "markdown",
      "source": [
        "**MEGA PROMOÇÃO**\n",
        "\n",
        "O mercadinho BigBom está fazendo uma super promoção de alguns itens para um churras de feriado. Vão entrar vários itens em promoção, tanto por quantidade quanto por preço total da compra. Quanto mais comprar, mais o cliente ganha desconto. Porém, nem tudo são flores e alguns itens terão restrição de quantidade e preço mínimo, senão não poderão ser levados. Os produtos são os seguintes:\n",
        "\n",
        "*   Contra Filé\n",
        "*   Panceta\n",
        "*   Pão de Alho\n",
        "*   Cerveja Lata\n",
        "*   Refrigerante Lata\n",
        "*   Carvão\n",
        "\n",
        "Cada um dos itens em promoção tem suas próprias regras de quantidade mínima, quantidade máxima e partir de quantas unidades ou quilos terá um desconto de 20%. E ainda podem ter um desconto extra conforme o valor total da compra conforme definido pelo gerente.\n",
        "\n",
        "Você deve criar um algoritmo que vai ajudar o gerente nessa tarefa e calcular a compra de um único cliente. Primeiro você deve perguntar ao gerente as informações de cada item:\n",
        "\n",
        "* Preço por unidade ou quilo\n",
        "* Quantidade mínima que deve ser comprada\n",
        "* Quantidade máxima que pode ser comprada\n",
        "* A partir de quantas unidades ou quilos entra em promoção de 20% de desconto\n",
        "\n",
        "*Faça as validações que achar necessário, por exemplo, a quantidade máxima de um produto deve ser maior que a quantidade mínima do mesmo.*\n",
        "\n",
        "Na sequência, você deve perguntar a partir de qual total a compra tem mais 10% de desconto. Ou seja, se o valor da compra total ultrapassar esse valor, serão aplicados mais 10% de desconto.\n",
        "\n",
        "Depois do gerente informar cada produto, você vai implementar uma compra. Para cada produto listado acima. Você deve pergunta a quantidade de unidades ou quilos que um único cliente comprou.\n",
        "\n",
        "Caso algum desses produtos que o cliente comprou não atingir a quantidade mínima do produto ou ultrapassar a quantidade máxima do produto. Este será excluído da compra, indicando na tela o motivo de não ser possível compra e não será considerado no valor total da conta.\n",
        "\n",
        "No final, você deve apresentar o valor cheio da compra (sem desconto), o valor da compra com desconto e o valor que foi descontado.\n",
        "\n",
        "\n"
      ],
      "metadata": {
        "id": "frZHEI4WB2OS"
      }
    },
    {
      "cell_type": "code",
      "source": [],
      "metadata": {
        "id": "_oWDkk_jFHiE"
      },
      "execution_count": null,
      "outputs": []
    },
    {
      "cell_type": "code",
      "execution_count": null,
      "metadata": {
        "id": "kdk5ESiYBzc4"
      },
      "outputs": [],
      "source": []
    }
  ]
}