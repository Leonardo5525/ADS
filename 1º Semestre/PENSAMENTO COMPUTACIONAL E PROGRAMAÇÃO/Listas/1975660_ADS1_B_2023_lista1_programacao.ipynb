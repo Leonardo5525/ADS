{
  "nbformat": 4,
  "nbformat_minor": 0,
  "metadata": {
    "colab": {
      "provenance": []
    },
    "kernelspec": {
      "name": "python3",
      "display_name": "Python 3"
    },
    "language_info": {
      "name": "python"
    }
  },
  "cells": [
    {
      "cell_type": "markdown",
      "source": [
        "Execício 01"
      ],
      "metadata": {
        "id": "14F6aNSfb79N"
      }
    },
    {
      "cell_type": "code",
      "execution_count": null,
      "metadata": {
        "id": "HigHoSpIrw_H",
        "colab": {
          "base_uri": "https://localhost:8080/"
        },
        "outputId": "bf493eff-02e2-4702-d961-3cbfb18ea683"
      },
      "outputs": [
        {
          "output_type": "stream",
          "name": "stdout",
          "text": [
            "Escolha uma medida em metros = 5\n",
            "5 metros será igual a 500 centímetros.\n"
          ]
        }
      ],
      "source": [
        "# Questão 01\n",
        "x = int(input(f'Escolha uma medida em metros = '))\n",
        "\n",
        "cent = x * 100\n",
        "\n",
        "print(f'{x} metros será igual a {cent} centímetros.')"
      ]
    },
    {
      "cell_type": "markdown",
      "source": [
        "Execício 02"
      ],
      "metadata": {
        "id": "VqV2CNKmcC44"
      }
    },
    {
      "cell_type": "code",
      "source": [
        "# Questão 02\n",
        "x = float(input(f'Qual é remuneração por hora = '))\n",
        "y = float(input(f'Quantas horas você trabalha por mês = '))\n",
        "\n",
        "salario = x * y\n",
        "\n",
        "print(f'Se você recebe {x} por hora, então seu salário será de {salario:.2f} R$ ')"
      ],
      "metadata": {
        "colab": {
          "base_uri": "https://localhost:8080/"
        },
        "id": "U9yai9aDsQvk",
        "outputId": "d5f932a7-6bec-4522-8e34-510e1fbb0355"
      },
      "execution_count": null,
      "outputs": [
        {
          "output_type": "stream",
          "name": "stdout",
          "text": [
            "Qual é remuneração por hora = 10\n",
            "Quantas horas você trabalha por mês = 160\n",
            "Se você recebe 10.0 por hora, então seu salário será de 1600.00 R$ \n"
          ]
        }
      ]
    },
    {
      "cell_type": "markdown",
      "source": [
        "Execício 03"
      ],
      "metadata": {
        "id": "4nnfMPJ5cGPD"
      }
    },
    {
      "cell_type": "code",
      "source": [
        "# Questão 03\n",
        "f = float(input('Qual é a temperatura ai nos USA? '))\n",
        "\n",
        "c = 5 * ((f-32)/9)\n",
        "\n",
        "print(f'Fazendo a conversão Fahrenheit para Celsius será igual {c} Cº')"
      ],
      "metadata": {
        "colab": {
          "base_uri": "https://localhost:8080/"
        },
        "id": "JCEXK8gIt-sS",
        "outputId": "8487de3c-4b83-4551-b2c6-e99c9216b85d"
      },
      "execution_count": null,
      "outputs": [
        {
          "output_type": "stream",
          "name": "stdout",
          "text": [
            "Qual é a temperatura ai nos USA? 50\n",
            "Fazendo a conversão Fahrenheit para Celsius será igual 10.0 Cº\n"
          ]
        }
      ]
    },
    {
      "cell_type": "markdown",
      "source": [
        "Execício 04"
      ],
      "metadata": {
        "id": "4o8AnsHqcIyE"
      }
    },
    {
      "cell_type": "code",
      "source": [
        "# Questão 04\n",
        "peso = float(input('Qual o seu peso = '))\n",
        "altura = float(input('Qual a sua altura = '))\n",
        "\n",
        "imc = peso / (altura * altura)\n",
        "\n",
        "print(imc)"
      ],
      "metadata": {
        "colab": {
          "base_uri": "https://localhost:8080/"
        },
        "id": "_V2BeJqUu-S8",
        "outputId": "ef08d59e-ca7b-4af1-e238-f8437b2b2ae2"
      },
      "execution_count": null,
      "outputs": [
        {
          "output_type": "stream",
          "name": "stdout",
          "text": [
            "Qual o seu peso = 90\n",
            "Qual a sua altura = 1.78\n",
            "28.40550435551067\n"
          ]
        }
      ]
    },
    {
      "cell_type": "markdown",
      "source": [
        "Execício 05"
      ],
      "metadata": {
        "id": "UF8DH_B7cKMh"
      }
    },
    {
      "cell_type": "code",
      "source": [
        "# Questão 05\n",
        "p = float(input('Quantos quilos de peixe trouxe? '))\n",
        "\n",
        "excesso = p - 30\n",
        "multa = excesso * 3\n",
        "\n",
        "print(f'Senhor Zé você pescou {p} quilos de peixe.')\n",
        "print(f'Sendo o excedente {excesso} quilos, esses serão passíveis de multa por quilo a mais.')\n",
        "print(f'Em seu caso a multa será de {multa:.2f} reais. ')"
      ],
      "metadata": {
        "id": "cKhyDFVHv21a",
        "colab": {
          "base_uri": "https://localhost:8080/"
        },
        "outputId": "8a288a1f-a5a9-46e2-a4ec-f1345e1faabc"
      },
      "execution_count": null,
      "outputs": [
        {
          "output_type": "stream",
          "name": "stdout",
          "text": [
            "Quantos quilos de peixe trouxe? 60\n",
            "Senhor Zé você pescou 60.0 quilos de peixe.\n",
            "Sendo o excedente 30.0 quilos, esses serão passíveis de multa por quilo a mais.\n",
            "Em seu caso a multa será de 90.00 reais. \n"
          ]
        }
      ]
    },
    {
      "cell_type": "markdown",
      "source": [
        "Execício 06"
      ],
      "metadata": {
        "id": "n2nDNxFFcLn2"
      }
    },
    {
      "cell_type": "code",
      "source": [
        "# Questão 06\n",
        "x = float(input(f'Qual é remuneração por hora = '))\n",
        "y = float(input(f'Quantas horas você trabalha por mês = '))\n",
        "\n",
        "salario = x * y\n",
        "ir = salario * 0.11\n",
        "inss = (salario - ir) * 0.08\n",
        "sl = salario - (ir + inss)\n",
        "\n",
        "print(f'Se você recebe {x} por hora, então o seu salário burto será de {salario:.2f} R$ ')\n",
        "print(f'O valor do Imposto de Renda é de = {ir}')\n",
        "print(f'O valor do Imposto do INSS será de = {inss} ')\n",
        "print(f'Se você recebe {salario} R$ por mês, o seu total líquido após desconto de impostos sobrará {sl}')"
      ],
      "metadata": {
        "colab": {
          "base_uri": "https://localhost:8080/"
        },
        "id": "S7kTk8PYwB6E",
        "outputId": "a5b61c0b-a178-45d5-90aa-039e8016392a"
      },
      "execution_count": null,
      "outputs": [
        {
          "output_type": "stream",
          "name": "stdout",
          "text": [
            "Qual é remuneração por hora = 10\n",
            "Quantas horas você trabalha por mês = 160\n",
            "Se você recebe 10.0 por hora, então o seu salário burto será de 1600.00 R$ \n",
            "O valor do Imposto de Renda é de = 176.0\n",
            "O valor do Imposto do INSS será de = 113.92 \n",
            "Se você recebe 1600.0 R$ por mês, o seu total líquido após desconto de impostos sobrará 1310.08\n"
          ]
        }
      ]
    },
    {
      "cell_type": "markdown",
      "source": [
        "Execício 07"
      ],
      "metadata": {
        "id": "L7OnemG4cOkO"
      }
    },
    {
      "cell_type": "code",
      "source": [
        "# Questão 07\n",
        "a = float(input('Qual é a comprimento do local? '))\n",
        "b = float(input('Qual é a largura do local? '))\n",
        "\n",
        "import math\n",
        "area = a * b\n",
        "tinta = math.ceil(area/3)\n",
        "pote = math.ceil(tinta/18)\n",
        "valor = pote*80\n",
        "compras = valor/80 \n",
        "\n",
        "print(f'O terreno terá {area} m² e necessitará {tinta} litros de tinta, sendo necessário {pote} potes, custando a faculdade {valor:.2f} R$')\n",
        "\n",
        "\n"
      ],
      "metadata": {
        "id": "AaQcJY8ywCwU",
        "colab": {
          "base_uri": "https://localhost:8080/"
        },
        "outputId": "0ccfc2e3-3f0d-4d13-e214-b0f2660c249e"
      },
      "execution_count": null,
      "outputs": [
        {
          "output_type": "stream",
          "name": "stdout",
          "text": [
            "Qual é a comprimento do local? 50\n",
            "Qual é a largura do local? 50\n",
            "O terreno terá 2500.0 m² e necessitará 834 litros de tinta, sendo necessário 47 potes, custando a faculdade 3760.00 R$\n"
          ]
        }
      ]
    }
  ]
}